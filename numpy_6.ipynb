{
 "cells": [
  {
   "cell_type": "markdown",
   "id": "95a8d784-454b-4b4b-8fec-48377daafbbe",
   "metadata": {},
   "source": [
    "# Array Sıralama (Sorting)"
   ]
  },
  {
   "cell_type": "code",
   "execution_count": 1,
   "id": "e9dc617a-490d-47d1-99a7-efbf5eaf2173",
   "metadata": {},
   "outputs": [],
   "source": [
    "import numpy as np"
   ]
  },
  {
   "cell_type": "code",
   "execution_count": 2,
   "id": "7c6a22f7-f761-4f3c-a2cd-9c66e1765edf",
   "metadata": {},
   "outputs": [],
   "source": [
    "v = np.array([2,1,4,3,5])"
   ]
  },
  {
   "cell_type": "code",
   "execution_count": 3,
   "id": "eff03e9e-6659-4ae5-a76e-6ad7607aa103",
   "metadata": {},
   "outputs": [
    {
     "data": {
      "text/plain": [
       "array([2, 1, 4, 3, 5])"
      ]
     },
     "execution_count": 3,
     "metadata": {},
     "output_type": "execute_result"
    }
   ],
   "source": [
    "v"
   ]
  },
  {
   "cell_type": "code",
   "execution_count": 4,
   "id": "ca7794ed-45db-4304-ae0d-c39966a5b311",
   "metadata": {},
   "outputs": [
    {
     "data": {
      "text/plain": [
       "array([1, 2, 3, 4, 5])"
      ]
     },
     "execution_count": 4,
     "metadata": {},
     "output_type": "execute_result"
    }
   ],
   "source": [
    "np.sort(v)"
   ]
  },
  {
   "cell_type": "markdown",
   "id": "ce161668-11ff-4cc0-a906-bdb791c8d06a",
   "metadata": {},
   "source": [
    "### iki boyutlu array sıralama"
   ]
  },
  {
   "cell_type": "code",
   "execution_count": 6,
   "id": "ad898579-96a7-4874-a79c-a42802a62fe7",
   "metadata": {},
   "outputs": [],
   "source": [
    "m = np.random.normal(20,5,(3,3))"
   ]
  },
  {
   "cell_type": "code",
   "execution_count": 7,
   "id": "a4b5ee12-e260-4b7f-9e2d-ca2851481de6",
   "metadata": {},
   "outputs": [
    {
     "data": {
      "text/plain": [
       "array([[25.24808429, 22.98331065, 19.3086797 ],\n",
       "       [16.81922849, 20.43754253, 20.90944205],\n",
       "       [24.25768042, 19.05148279, 21.05686982]])"
      ]
     },
     "execution_count": 7,
     "metadata": {},
     "output_type": "execute_result"
    }
   ],
   "source": [
    "m"
   ]
  },
  {
   "cell_type": "code",
   "execution_count": 8,
   "id": "6c1eb7fd-9871-4e05-91a1-467a0e73daff",
   "metadata": {},
   "outputs": [
    {
     "data": {
      "text/plain": [
       "array([[19.3086797 , 22.98331065, 25.24808429],\n",
       "       [16.81922849, 20.43754253, 20.90944205],\n",
       "       [19.05148279, 21.05686982, 24.25768042]])"
      ]
     },
     "execution_count": 8,
     "metadata": {},
     "output_type": "execute_result"
    }
   ],
   "source": [
    "np.sort(m,axis =1)"
   ]
  },
  {
   "cell_type": "code",
   "execution_count": 9,
   "id": "7854c8b2-1991-46be-870f-b11b69367e75",
   "metadata": {},
   "outputs": [
    {
     "data": {
      "text/plain": [
       "array([[16.81922849, 19.05148279, 19.3086797 ],\n",
       "       [24.25768042, 20.43754253, 20.90944205],\n",
       "       [25.24808429, 22.98331065, 21.05686982]])"
      ]
     },
     "execution_count": 9,
     "metadata": {},
     "output_type": "execute_result"
    }
   ],
   "source": [
    "np.sort(m,axis=0)"
   ]
  },
  {
   "cell_type": "code",
   "execution_count": null,
   "id": "0da15518-0cd7-495c-9e0e-91ddc514bdf8",
   "metadata": {},
   "outputs": [],
   "source": []
  }
 ],
 "metadata": {
  "kernelspec": {
   "display_name": "Python 3 (ipykernel)",
   "language": "python",
   "name": "python3"
  },
  "language_info": {
   "codemirror_mode": {
    "name": "ipython",
    "version": 3
   },
   "file_extension": ".py",
   "mimetype": "text/x-python",
   "name": "python",
   "nbconvert_exporter": "python",
   "pygments_lexer": "ipython3",
   "version": "3.10.9"
  }
 },
 "nbformat": 4,
 "nbformat_minor": 5
}
