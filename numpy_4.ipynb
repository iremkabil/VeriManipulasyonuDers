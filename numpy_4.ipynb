{
 "cells": [
  {
   "cell_type": "markdown",
   "id": "299605e7-d90a-4842-877f-9f34d67eb463",
   "metadata": {},
   "source": [
    "# Array Birleştirme"
   ]
  },
  {
   "cell_type": "code",
   "execution_count": 1,
   "id": "8695c9f9-e3c8-40b2-829f-a9cec80cc1de",
   "metadata": {},
   "outputs": [],
   "source": [
    "import numpy as np"
   ]
  },
  {
   "cell_type": "code",
   "execution_count": 2,
   "id": "6a750742-9758-4032-b362-51a7d7b74ee7",
   "metadata": {},
   "outputs": [],
   "source": [
    "x = np.array([1,2,3])"
   ]
  },
  {
   "cell_type": "code",
   "execution_count": 3,
   "id": "0d5104ce-f37d-4354-999a-1f1b12a706f2",
   "metadata": {},
   "outputs": [],
   "source": [
    "y = np.array([4,5,6])"
   ]
  },
  {
   "cell_type": "code",
   "execution_count": 4,
   "id": "f14c9496-7ba0-41e6-abd9-7b90f808f377",
   "metadata": {},
   "outputs": [
    {
     "data": {
      "text/plain": [
       "array([1, 2, 3, 4, 5, 6])"
      ]
     },
     "execution_count": 4,
     "metadata": {},
     "output_type": "execute_result"
    }
   ],
   "source": [
    "np.concatenate([x,y])"
   ]
  },
  {
   "cell_type": "code",
   "execution_count": 5,
   "id": "d2f1a011-b43e-4560-89a5-ecedee180bca",
   "metadata": {},
   "outputs": [],
   "source": [
    "z = np.array([7,8,9])"
   ]
  },
  {
   "cell_type": "code",
   "execution_count": 6,
   "id": "d417ebbe-8946-4f57-b9df-814d7a34db70",
   "metadata": {},
   "outputs": [
    {
     "data": {
      "text/plain": [
       "array([1, 2, 3, 4, 5, 6, 7, 8, 9])"
      ]
     },
     "execution_count": 6,
     "metadata": {},
     "output_type": "execute_result"
    }
   ],
   "source": [
    "np.concatenate([x,y,z])"
   ]
  },
  {
   "cell_type": "markdown",
   "id": "4dff1282-0f8a-4a8e-81a6-90a3b54696fd",
   "metadata": {},
   "source": [
    "## iki boyut"
   ]
  },
  {
   "cell_type": "code",
   "execution_count": 7,
   "id": "6a129b4f-be4e-4980-aa7f-ce973fdb8f58",
   "metadata": {},
   "outputs": [],
   "source": [
    "a = np.array([[1,2,3],\n",
    "             [4,5,6]])"
   ]
  },
  {
   "cell_type": "code",
   "execution_count": 8,
   "id": "e830f074-ab88-4af8-a7a6-dd800e5de28e",
   "metadata": {},
   "outputs": [
    {
     "data": {
      "text/plain": [
       "array([[1, 2, 3],\n",
       "       [4, 5, 6],\n",
       "       [1, 2, 3],\n",
       "       [4, 5, 6]])"
      ]
     },
     "execution_count": 8,
     "metadata": {},
     "output_type": "execute_result"
    }
   ],
   "source": [
    "np.concatenate([a,a])"
   ]
  },
  {
   "cell_type": "markdown",
   "id": "f622c331-d0dc-4687-9f91-600fbb93e6bf",
   "metadata": {},
   "source": [
    "### axis=0 => satır\n",
    "### axis=1 => sütun"
   ]
  },
  {
   "cell_type": "code",
   "execution_count": 9,
   "id": "9426c700-1748-4915-922c-e23f21018b14",
   "metadata": {},
   "outputs": [
    {
     "data": {
      "text/plain": [
       "array([[1, 2, 3, 1, 2, 3],\n",
       "       [4, 5, 6, 4, 5, 6]])"
      ]
     },
     "execution_count": 9,
     "metadata": {},
     "output_type": "execute_result"
    }
   ],
   "source": [
    "np.concatenate([a,a],axis=1)"
   ]
  },
  {
   "cell_type": "code",
   "execution_count": null,
   "id": "910cbdfb-0c2d-46e8-bb2e-9f57694c479f",
   "metadata": {},
   "outputs": [],
   "source": []
  }
 ],
 "metadata": {
  "kernelspec": {
   "display_name": "Python 3 (ipykernel)",
   "language": "python",
   "name": "python3"
  },
  "language_info": {
   "codemirror_mode": {
    "name": "ipython",
    "version": 3
   },
   "file_extension": ".py",
   "mimetype": "text/x-python",
   "name": "python",
   "nbconvert_exporter": "python",
   "pygments_lexer": "ipython3",
   "version": "3.10.9"
  }
 },
 "nbformat": 4,
 "nbformat_minor": 5
}
