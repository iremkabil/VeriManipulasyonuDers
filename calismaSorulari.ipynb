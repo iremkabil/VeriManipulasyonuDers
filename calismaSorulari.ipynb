{
 "cells": [
  {
   "cell_type": "markdown",
   "id": "2cc17faa-888b-4b13-b709-d930d6aa2075",
   "metadata": {},
   "source": [
    "## Temel Çalışma Soruları"
   ]
  },
  {
   "cell_type": "markdown",
   "id": "047d52a7-223e-4b14-9b02-28575b4c1e6a",
   "metadata": {},
   "source": [
    "NumPy'de sıralama, çarpma işleminin toplama işleminden önce yapılmasını sağlar."
   ]
  },
  {
   "cell_type": "markdown",
   "id": "b76b580c-185c-4394-bb03-342240266870",
   "metadata": {},
   "source": [
    "**map()**, kısa ve öz bir şekilde sadece bir fonksiyon uygulamak istediğinizde idealdir. Örneğin: map(str.capitalize, kelimeler).\n",
    "**Liste** Anlaması, daha karmaşık işlemler veya kolay okunabilirlik için daha uygundur. Örneğin: [kelime.capitalize() for kelime in kelimeler]."
   ]
  },
  {
   "cell_type": "markdown",
   "id": "96df77a4-bf39-411f-a76d-8cff594137f8",
   "metadata": {},
   "source": [
    "## Pandas ile Eksik Değer Tespiti ve Doldurma\n",
    "Pandas, eksik değerleri tespit etmek ve doldurmak için çok güçlü araçlar sağlar:\n",
    "\n",
    "### Eksik Değer Tespiti:\n",
    "- **isnull():** Eksik değerleri (NaN) True olarak işaretler.\n",
    "- **notnull():** Eksik olmayan değerleri True olarak işaretler.\n",
    "Eksik Değerleri Ortalama ile Doldurma:\n",
    "- **fillna():** Eksik değerleri belirtilen bir yöntem veya değerle doldurur."
   ]
  },
  {
   "cell_type": "markdown",
   "id": "1f71ca4f-2484-4835-9799-f4fc8e6bfed6",
   "metadata": {},
   "source": [
    "- **.empty**, DataFrame'in tamamen boş olup olmadığını kontrol eder\n",
    "- Eğer bir DataFrame içindeki boş değerleri (NaN, None gibi) kontrol etmek istiyorsanız, **pd.isnull()** veya **.isna()** fonksiyonlarını kullanabilirsiniz:"
   ]
  },
  {
   "cell_type": "code",
   "execution_count": 60,
   "id": "31c4c4cd-01f6-4d18-ba13-6f6fa8bd9910",
   "metadata": {},
   "outputs": [
    {
     "name": "stdout",
     "output_type": "stream",
     "text": [
      "      Ad    Yaş   Maaş\n",
      "0  False  False  False\n",
      "1  False   True  False\n",
      "2  False  False   True\n",
      "\n",
      "Eksik değerler doldurulduktan sonra:\n",
      "       Ad   Yaş    Maaş\n",
      "0    Ali  25.0  3000.0\n",
      "1   Ayşe  26.5  4000.0\n",
      "2  Ahmet  28.0  3500.0\n"
     ]
    }
   ],
   "source": [
    "import pandas as pd\n",
    "\n",
    "# Örnek veri\n",
    "data = {\n",
    "    \"Ad\": [\"Ali\", \"Ayşe\", \"Ahmet\"],\n",
    "    \"Yaş\": [25, None, 28],\n",
    "    \"Maaş\": [3000, 4000, None]\n",
    "}\n",
    "df = pd.DataFrame(data)\n",
    "\n",
    "# Eksik değerleri tespit etme\n",
    "print(df.isnull())\n",
    "\n",
    "# Her sütunun ortalamasıyla eksik değerleri doldurma\n",
    "df[\"Yaş\"] = df[\"Yaş\"].fillna(df[\"Yaş\"].mean())\n",
    "df[\"Maaş\"] = df[\"Maaş\"].fillna(df[\"Maaş\"].mean())\n",
    "\n",
    "print(\"\\nEksik değerler doldurulduktan sonra:\\n\", df)\n"
   ]
  },
  {
   "cell_type": "markdown",
   "id": "a99fcd42-82f3-4da0-8e61-58e9504db1fe",
   "metadata": {},
   "source": [
    "## NumPy ile Eksik Değer Tespiti ve Doldurma\n",
    "NumPy, eksik değerleri **np.nan** ile ifade eder ve işlemler için temel fonksiyonlar sağlar.\n",
    "\n",
    "### Eksik Değer Tespiti:\n",
    "- np.isnan(): Bir dizide eksik değerlerin yerlerini bulur.\n",
    "### Eksik Değerleri Ortalama ile Doldurma:\n",
    "- NumPy'nın fonksiyonları (np.nanmean) eksik değerleri hesaba katmadan işlem yapabilir."
   ]
  },
  {
   "cell_type": "code",
   "execution_count": 61,
   "id": "4e32a815-fcc2-4d75-8a5b-ad70a4d38f00",
   "metadata": {},
   "outputs": [
    {
     "name": "stdout",
     "output_type": "stream",
     "text": [
      "Eksik Değerler:\n",
      " [[False False]\n",
      " [ True False]\n",
      " [False  True]]\n",
      "\n",
      "Doldurulmuş Veri:\n",
      " [[  25.  3000. ]\n",
      " [  26.5 4000. ]\n",
      " [  28.  3500. ]]\n"
     ]
    }
   ],
   "source": [
    "import numpy as np\n",
    "\n",
    "# NumPy dizisi\n",
    "data = np.array([[25, 3000], [np.nan, 4000], [28, np.nan]])\n",
    "\n",
    "# Eksik değerleri tespit etme\n",
    "print(\"Eksik Değerler:\\n\", np.isnan(data))\n",
    "\n",
    "# Sütun ortalamalarını hesaplama (NaN'ları dikkate almaz)\n",
    "col_means = np.nanmean(data, axis=0)\n",
    "\n",
    "# Eksik değerleri sütun ortalamalarıyla doldurma\n",
    "filled_data = np.where(np.isnan(data), col_means, data)\n",
    "\n",
    "print(\"\\nDoldurulmuş Veri:\\n\", filled_data)\n"
   ]
  },
  {
   "cell_type": "markdown",
   "id": "cf41816d-8006-4385-9450-16cfadb10658",
   "metadata": {},
   "source": [
    "**axis=0**: Sütunlar üzerinde işlem yapmak için\n",
    "\n",
    "**axis=1**: Satırlar üzerinde işlem yapmak için"
   ]
  },
  {
   "cell_type": "markdown",
   "id": "1b541d2e-74cb-456a-a47d-059d96de8c33",
   "metadata": {},
   "source": [
    ".mean() .sum()  .max() .min()"
   ]
  },
  {
   "cell_type": "markdown",
   "id": "00c7a534-ec15-47aa-a9f2-2bf22fae6c67",
   "metadata": {},
   "source": [
    "- Pandas'ta **sort_values()** fonksiyonu bir DataFrame veya Series'in **değerlerini** sıralamak için kullanılır. Bu fonksiyon, belirtilen bir sütuna göre verileri artan ya da azalan şekilde sıralayabilir.\n",
    "- **sort_index()**: İndekslere göre sıralama yapar."
   ]
  },
  {
   "cell_type": "code",
   "execution_count": 63,
   "id": "e6218e64-dbdc-496c-b6e5-fd519800b352",
   "metadata": {},
   "outputs": [
    {
     "name": "stdout",
     "output_type": "stream",
     "text": [
      "      Ad  Yaş  Maaş\n",
      "0    Ali   25  3000\n",
      "2  Ahmet   28  3500\n",
      "1   Ayşe   30  4000\n",
      "      Ad  Yaş  Maaş\n",
      "1   Ayşe   30  4000\n",
      "2  Ahmet   28  3500\n",
      "0    Ali   25  3000\n",
      "      Ad  Yaş  Maaş\n",
      "0    Ali   25  3000\n",
      "2  Ahmet   28  3500\n",
      "1   Ayşe   30  4000\n",
      "Ali      3000\n",
      "Ahmet    3500\n",
      "Ayşe     4000\n",
      "dtype: int64\n"
     ]
    }
   ],
   "source": [
    "import pandas as pd\n",
    "\n",
    "# Örnek veri\n",
    "data = {\n",
    "    \"Ad\": [\"Ali\", \"Ayşe\", \"Ahmet\"],\n",
    "    \"Yaş\": [25, 30, 28],\n",
    "    \"Maaş\": [3000, 4000, 3500]\n",
    "}\n",
    "df = pd.DataFrame(data)\n",
    "\n",
    "# \"Yaş\" sütununa göre sıralama\n",
    "siralama = df.sort_values(\"Yaş\")\n",
    "print(siralama)\n",
    "\n",
    "# \"Maaş\" sütununa göre azalan sıralama\n",
    "siralama = df.sort_values(\"Maaş\", ascending=False)\n",
    "print(siralama)\n",
    "\n",
    "# Önce \"Yaş\", sonra \"Maaş\" sütununa göre sıralama\n",
    "siralama = df.sort_values([\"Yaş\", \"Maaş\"], ascending=[True, False])\n",
    "print(siralama)\n",
    "\n",
    "# Series örneği\n",
    "ser = pd.Series([3000, 4000, 3500], index=[\"Ali\", \"Ayşe\", \"Ahmet\"])\n",
    "\n",
    "# Değerlere göre sıralama\n",
    "siralama = ser.sort_values()\n",
    "print(siralama)\n",
    "\n",
    "\n"
   ]
  },
  {
   "cell_type": "code",
   "execution_count": 3,
   "id": "0c1a4097-bc21-4cb8-adc8-be0099b663e2",
   "metadata": {},
   "outputs": [
    {
     "data": {
      "text/plain": [
       "25"
      ]
     },
     "execution_count": 3,
     "metadata": {},
     "output_type": "execute_result"
    }
   ],
   "source": [
    "numbers = [3,7,5,8,2]\n",
    "total = sum(numbers)\n",
    "total"
   ]
  },
  {
   "cell_type": "code",
   "execution_count": 8,
   "id": "7a1c881d-0cc9-46cd-ad65-cbfc5facba24",
   "metadata": {},
   "outputs": [
    {
     "name": "stdout",
     "output_type": "stream",
     "text": [
      "toplam: 25\n"
     ]
    }
   ],
   "source": [
    "print(f\"toplam: {total}\")"
   ]
  },
  {
   "cell_type": "code",
   "execution_count": 9,
   "id": "2a767da7-f68f-4166-aa5f-3556de79d373",
   "metadata": {},
   "outputs": [],
   "source": [
    "import pandas as pd\n",
    "data = {\n",
    "    \"Ad\": [\"Ayşe\",\"Ali\",\"Ece\"],\n",
    "    \"Yaş\":[28,40,50],\n",
    "    \"Maaş\":[30000,40000,50000]\n",
    "}\n",
    "df = pd.DataFrame(data)"
   ]
  },
  {
   "cell_type": "code",
   "execution_count": 15,
   "id": "39f90aed-d09c-4297-af84-0c7f3a328f8e",
   "metadata": {},
   "outputs": [
    {
     "data": {
      "text/plain": [
       "Yaş        39.333333\n",
       "Maaş    40000.000000\n",
       "dtype: float64"
      ]
     },
     "execution_count": 15,
     "metadata": {},
     "output_type": "execute_result"
    }
   ],
   "source": [
    "df.mean(numeric_only=True)"
   ]
  },
  {
   "cell_type": "code",
   "execution_count": 17,
   "id": "3bedb7ba-41d5-4df1-b3a1-0b106d4005ee",
   "metadata": {},
   "outputs": [
    {
     "data": {
      "text/plain": [
       "array([[ 6,  8],\n",
       "       [10, 12]])"
      ]
     },
     "execution_count": 17,
     "metadata": {},
     "output_type": "execute_result"
    }
   ],
   "source": [
    "import numpy as np\n",
    "\n",
    "A = np.array([[1,2],[3,4]])\n",
    "B = np.array([[5,6],[7,8]])\n",
    "C = A + B\n",
    "C"
   ]
  },
  {
   "cell_type": "markdown",
   "id": "9b481ebb-fd5a-4fb3-8ab1-ac23b0ebd1a6",
   "metadata": {},
   "source": [
    "#### Soru 1: Python Veri Tipleri"
   ]
  },
  {
   "cell_type": "code",
   "execution_count": 18,
   "id": "b69b4936-2b23-45da-ba70-83c416ab7af4",
   "metadata": {},
   "outputs": [
    {
     "name": "stdout",
     "output_type": "stream",
     "text": [
      "<class 'list'> <class 'tuple'> <class 'set'>\n"
     ]
    }
   ],
   "source": [
    "x = [1, 2, 3]\n",
    "y = (1, 2, 3)\n",
    "z = {1, 2, 3}\n",
    "print(type(x), type(y), type(z))"
   ]
  },
  {
   "cell_type": "markdown",
   "id": "49711065-ece4-4e0f-86e1-95e0e273a133",
   "metadata": {},
   "source": [
    "Python'da döngü değişkeni (i) için başlangıç değeri atamak zorunlu değildir, çünkü Python bunu iterable üzerinden otomatik olarak atar. Ancak C++ gibi dillerde bu tür değer atamalarını açıkça yapmak gerekir. Bu fark, Python'un dinamik ve yüksek seviyeli bir dil olmasından kaynaklanır."
   ]
  },
  {
   "cell_type": "markdown",
   "id": "4c635f5f-4b52-491d-bceb-f6a9df558344",
   "metadata": {},
   "source": [
    "#### Soru 2: Döngüler"
   ]
  },
  {
   "cell_type": "code",
   "execution_count": 19,
   "id": "abdd8965-7c5a-4ff3-86c8-2595ef959be8",
   "metadata": {},
   "outputs": [
    {
     "name": "stdout",
     "output_type": "stream",
     "text": [
      "0 1 2 "
     ]
    }
   ],
   "source": [
    "for i in range(3):\n",
    "    print(i, end=\" \")\n"
   ]
  },
  {
   "cell_type": "markdown",
   "id": "d597e7bc-a887-4a0f-a24e-e8532211b9d6",
   "metadata": {},
   "source": [
    "#### Soru 3: List Comprehension"
   ]
  },
  {
   "cell_type": "code",
   "execution_count": 21,
   "id": "801ef925-3cd6-4ea8-9498-c9c239d6b217",
   "metadata": {},
   "outputs": [
    {
     "name": "stdout",
     "output_type": "stream",
     "text": [
      "[0, 4, 16]\n"
     ]
    }
   ],
   "source": [
    "numbers = [x**2 for x in range(5) if x % 2 == 0]\n",
    "print(numbers)\n"
   ]
  },
  {
   "cell_type": "markdown",
   "id": "c59b625b-2a0e-45fd-baf0-fb4d98426d43",
   "metadata": {},
   "source": [
    "#### Soru 4: Pandas ile Veri Manipülasyonu"
   ]
  },
  {
   "cell_type": "code",
   "execution_count": 23,
   "id": "761e1578-42b1-440c-93e8-80e38c7f2b53",
   "metadata": {},
   "outputs": [
    {
     "name": "stdout",
     "output_type": "stream",
     "text": [
      "30\n"
     ]
    }
   ],
   "source": [
    "import pandas as pd\n",
    "data = {'A': [10, 20], 'B': [30, 40]}\n",
    "df = pd.DataFrame(data)\n",
    "print(df.loc[0, 'B'])\n"
   ]
  },
  {
   "cell_type": "markdown",
   "id": "b8366c9b-c3f8-4ec3-bd32-2b1b2f64e515",
   "metadata": {},
   "source": [
    "#### Soru 5: NumPy ile Matris İşlemleri"
   ]
  },
  {
   "cell_type": "code",
   "execution_count": 24,
   "id": "78ece352-a66f-4957-854b-2985aca190a5",
   "metadata": {},
   "outputs": [
    {
     "name": "stdout",
     "output_type": "stream",
     "text": [
      "3\n"
     ]
    }
   ],
   "source": [
    "import numpy as np\n",
    "arr = np.array([[1, 2], [3, 4]])\n",
    "print(arr[1, 0])\n"
   ]
  },
  {
   "cell_type": "markdown",
   "id": "71e1dea4-e70c-42a6-8d5a-2388247c1699",
   "metadata": {},
   "source": [
    "#### Soru 6: Python Fonksiyonları"
   ]
  },
  {
   "cell_type": "code",
   "execution_count": 30,
   "id": "a1249ad6-c913-480d-9f48-50fb9c2b6b43",
   "metadata": {},
   "outputs": [
    {
     "name": "stdout",
     "output_type": "stream",
     "text": [
      "15\n"
     ]
    }
   ],
   "source": [
    "def multiply(a, b=5):\n",
    "    return a * b\n",
    "\n",
    "result = multiply(3)\n",
    "print(result)\n"
   ]
  },
  {
   "cell_type": "markdown",
   "id": "be03c822-fe5d-4749-a95c-4d762dff591f",
   "metadata": {},
   "source": [
    "#### Soru 7: Hata Yönetimi"
   ]
  },
  {
   "cell_type": "code",
   "execution_count": 31,
   "id": "b3c9e046-5c80-4d29-97ed-3cd8b55ade70",
   "metadata": {},
   "outputs": [
    {
     "name": "stdout",
     "output_type": "stream",
     "text": [
      "Hata: Sifira bolme hatasi\n"
     ]
    }
   ],
   "source": [
    "try: \n",
    "    x= 1/0\n",
    "except ZeroDivisionError:\n",
    "    print(\"Hata: Sifira bolme hatasi\")"
   ]
  },
  {
   "cell_type": "markdown",
   "id": "11100f1c-ea56-460e-958e-875658bec252",
   "metadata": {},
   "source": [
    "#### Soru 8: Değişken Türü"
   ]
  },
  {
   "cell_type": "markdown",
   "id": "c6dcef6b-fc5b-43ea-8b60-9c00ec5cc608",
   "metadata": {},
   "source": [
    "Python'da bir string (x) ile bir tam sayı (y) çarpılırsa, string sayı kadar tekrarlanır. Bu durumda, \"5\" stringi 3 defa tekrarlanır."
   ]
  },
  {
   "cell_type": "code",
   "execution_count": 32,
   "id": "edd5863f-971e-430e-9cce-17b8931184b7",
   "metadata": {},
   "outputs": [
    {
     "name": "stdout",
     "output_type": "stream",
     "text": [
      "555\n"
     ]
    }
   ],
   "source": [
    "x = \"5\"\n",
    "y = 3\n",
    "z = x * y\n",
    "print(z)\n"
   ]
  },
  {
   "cell_type": "markdown",
   "id": "88e2c2bc-4f3b-4384-9de0-8dd4efd3e770",
   "metadata": {},
   "source": [
    "#### Soru 9: Lambda Fonksiyonu"
   ]
  },
  {
   "cell_type": "code",
   "execution_count": 34,
   "id": "b4f7ecb7-22b5-4873-9aa4-d7f50813dd65",
   "metadata": {},
   "outputs": [
    {
     "name": "stdout",
     "output_type": "stream",
     "text": [
      "10\n"
     ]
    }
   ],
   "source": [
    "f = lambda x: x * 2\n",
    "print(f(5))\n"
   ]
  },
  {
   "cell_type": "markdown",
   "id": "83f92b9f-92df-4745-bd63-d6220bee6817",
   "metadata": {},
   "source": [
    "**map()** fonksiyonu, verilen lambda fonksiyonunu numbers listesindeki her elemana uygular"
   ]
  },
  {
   "cell_type": "code",
   "execution_count": 35,
   "id": "ac46410f-be6e-40f7-9e2a-5c67c229684c",
   "metadata": {},
   "outputs": [
    {
     "name": "stdout",
     "output_type": "stream",
     "text": [
      "[1, 4, 27, 16]\n"
     ]
    }
   ],
   "source": [
    "numbers = [1, 2, 3, 4]\n",
    "result = list(map(lambda x: x**2 if x % 2 == 0 else x**3, numbers))\n",
    "print(result)\n"
   ]
  },
  {
   "cell_type": "markdown",
   "id": "75a0debf-6f9d-42b5-aefb-35838d036b19",
   "metadata": {},
   "source": [
    "#### Soru 10: Pandas ile Veri Seçimi"
   ]
  },
  {
   "cell_type": "code",
   "execution_count": 36,
   "id": "cb11483e-6cf8-4789-8952-712a17e2a782",
   "metadata": {},
   "outputs": [
    {
     "name": "stdout",
     "output_type": "stream",
     "text": [
      "2\n"
     ]
    }
   ],
   "source": [
    "import pandas as pd\n",
    "data = {\"A\": [1, 2], \"B\": [3, 4]}\n",
    "df = pd.DataFrame(data)\n",
    "print(df[\"A\"][1])\n"
   ]
  },
  {
   "cell_type": "markdown",
   "id": "badc27d1-8152-41ef-9a66-d1d0eb621383",
   "metadata": {},
   "source": [
    "#### Soru 11: NumPy ile Diziler"
   ]
  },
  {
   "cell_type": "code",
   "execution_count": 37,
   "id": "c2c0f469-f94e-496d-8a7c-9b58aae2517a",
   "metadata": {},
   "outputs": [
    {
     "name": "stdout",
     "output_type": "stream",
     "text": [
      "[11 12 13 14]\n"
     ]
    }
   ],
   "source": [
    "import numpy as np\n",
    "arr = np.array([1, 2, 3, 4])\n",
    "print(arr + 10)\n"
   ]
  },
  {
   "cell_type": "code",
   "execution_count": 44,
   "id": "04642471-f0b2-4bd9-a765-a3f884d57aec",
   "metadata": {},
   "outputs": [
    {
     "name": "stdout",
     "output_type": "stream",
     "text": [
      "[14 20 28]\n"
     ]
    }
   ],
   "source": [
    "import numpy as np\n",
    "\n",
    "arr1 = np.array([1, 2, 3])\n",
    "arr2 = np.array([4, 5, 6])\n",
    "result = arr1 * arr2 + 10\n",
    "print(result)\n"
   ]
  },
  {
   "cell_type": "code",
   "execution_count": 45,
   "id": "0ec9cc3d-e0ea-42da-ba82-cfa0039aebe2",
   "metadata": {},
   "outputs": [
    {
     "name": "stdout",
     "output_type": "stream",
     "text": [
      "[14 20 28]\n"
     ]
    }
   ],
   "source": [
    "import numpy as np\n",
    "\n",
    "arr1 = np.array([1, 2, 3])\n",
    "arr2 = np.array([4, 5, 6])\n",
    "result = 10 + arr1 * arr2\n",
    "print(result)\n"
   ]
  },
  {
   "cell_type": "markdown",
   "id": "7430c9b3-189e-41ee-b5ce-a5880d7718e7",
   "metadata": {},
   "source": [
    "**.where()**"
   ]
  },
  {
   "cell_type": "code",
   "execution_count": null,
   "id": "0319ec39-2ebf-48c5-8612-4adf91196653",
   "metadata": {},
   "outputs": [],
   "source": [
    "import numpy as np\n",
    "\n",
    "arr = np.array([1, 2, 3, 4, 5])\n",
    "result = np.where(arr % 2 == 0, arr * 2, arr * 3)\n",
    "print(result)\n"
   ]
  },
  {
   "cell_type": "markdown",
   "id": "407eeb46-3e73-49ca-b0f6-83d6b80cf0e7",
   "metadata": {},
   "source": [
    "**arr[1:3, 0:2]:**\n",
    "    2. ve 3. satırlar arasını seçer (1:3).\n",
    "    0. ve 1. sütunları seçer (0:2)."
   ]
  },
  {
   "cell_type": "code",
   "execution_count": 46,
   "id": "438ff389-a0e7-461d-9f44-f6c695fb2f29",
   "metadata": {},
   "outputs": [
    {
     "name": "stdout",
     "output_type": "stream",
     "text": [
      "[[4 5]\n",
      " [7 8]]\n"
     ]
    }
   ],
   "source": [
    "import numpy as np\n",
    "\n",
    "arr = np.array([[1, 2, 3], [4, 5, 6], [7, 8, 9]])\n",
    "print(arr[1:3, 0:2])\n"
   ]
  },
  {
   "cell_type": "code",
   "execution_count": 47,
   "id": "93162c8c-0029-4e84-96af-1e3bbe4403a0",
   "metadata": {},
   "outputs": [
    {
     "name": "stdout",
     "output_type": "stream",
     "text": [
      "[7 8 9]\n"
     ]
    }
   ],
   "source": [
    "import numpy as np\n",
    "\n",
    "arr = np.array([[1, 2, 3], [4, 5, 6], [7, 8, 9]])\n",
    "result = np.max(arr, axis=0)  # Maksimumları sütun bazında al\n",
    "print(result)\n"
   ]
  },
  {
   "cell_type": "markdown",
   "id": "5411447a-5e2f-4aa0-a4f3-3dd6f7c915e3",
   "metadata": {},
   "source": [
    "### Filtreleme"
   ]
  },
  {
   "cell_type": "code",
   "execution_count": 48,
   "id": "b22dee0c-10c7-4a9a-9337-65fb77acf6c3",
   "metadata": {},
   "outputs": [
    {
     "name": "stdout",
     "output_type": "stream",
     "text": [
      "[2 4]\n"
     ]
    }
   ],
   "source": [
    "import numpy as np\n",
    "\n",
    "arr = np.array([1, 2, 3, 4, 5])\n",
    "result = arr[arr % 2 == 0]\n",
    "print(result)\n"
   ]
  },
  {
   "cell_type": "code",
   "execution_count": 49,
   "id": "615c75fd-77e7-42a5-a961-9fc05648c9f9",
   "metadata": {},
   "outputs": [
    {
     "name": "stdout",
     "output_type": "stream",
     "text": [
      "[ 1  2  3  4 10]\n"
     ]
    }
   ],
   "source": [
    "import numpy as np\n",
    "\n",
    "arr = np.array([1, 2, 3, 4, 5])\n",
    "arr[-1] = 10\n",
    "print(arr)\n"
   ]
  },
  {
   "cell_type": "code",
   "execution_count": 50,
   "id": "52860c97-30d6-425c-984b-491000a1b12f",
   "metadata": {},
   "outputs": [
    {
     "name": "stdout",
     "output_type": "stream",
     "text": [
      "[[11 12 13]\n",
      " [14 15 16]]\n"
     ]
    }
   ],
   "source": [
    "import numpy as np\n",
    "\n",
    "arr = np.array([[1, 2, 3], [4, 5, 6]])\n",
    "result = arr + 10\n",
    "print(result)\n"
   ]
  },
  {
   "cell_type": "markdown",
   "id": "4c8ba2e2-f1d8-4df7-9fd4-f6d135328cfe",
   "metadata": {},
   "source": [
    "#### Soru 12: String İşlemleri"
   ]
  },
  {
   "cell_type": "code",
   "execution_count": 39,
   "id": "fd077519-aa82-4671-a381-11b0ca05999b",
   "metadata": {},
   "outputs": [
    {
     "name": "stdout",
     "output_type": "stream",
     "text": [
      "nohtyp\n"
     ]
    }
   ],
   "source": [
    "s = \"python\"\n",
    "print(s[::-1])\n"
   ]
  },
  {
   "cell_type": "markdown",
   "id": "d0f9cd81-aca5-4da2-9564-6fccf3b45053",
   "metadata": {},
   "source": [
    "#### Soru 13: Python Sözlükleri"
   ]
  },
  {
   "cell_type": "code",
   "execution_count": 41,
   "id": "6157d2a1-67fc-43bd-af4e-a80bdfa95d3a",
   "metadata": {},
   "outputs": [
    {
     "name": "stdout",
     "output_type": "stream",
     "text": [
      "Bulunamadı\n"
     ]
    }
   ],
   "source": [
    "d = {\"a\": 1, \"b\": 2, \"c\": 3}\n",
    "print(d.get(\"d\", \"Bulunamadı\"))\n"
   ]
  },
  {
   "cell_type": "markdown",
   "id": "a97d0a7b-dfde-4e33-b64b-8575eb158be7",
   "metadata": {},
   "source": [
    "#### Soru 10: Zaman Modülü"
   ]
  },
  {
   "cell_type": "code",
   "execution_count": 43,
   "id": "c31f16c6-f704-4086-96d2-38ada297a162",
   "metadata": {},
   "outputs": [
    {
     "name": "stdout",
     "output_type": "stream",
     "text": [
      "2024\n"
     ]
    }
   ],
   "source": [
    "import time\n",
    "print(time.strftime(\"%Y\"))\n"
   ]
  },
  {
   "cell_type": "markdown",
   "id": "da2ec3b0-f06b-4b5b-96d6-0db8eb09cbd5",
   "metadata": {},
   "source": [
    "### Python\n",
    "#### Soru 1: Python'da Kapalı Fonksiyonlar"
   ]
  },
  {
   "cell_type": "code",
   "execution_count": 51,
   "id": "928e0c36-7162-4302-85c1-82609e50633c",
   "metadata": {},
   "outputs": [
    {
     "name": "stdout",
     "output_type": "stream",
     "text": [
      "15\n"
     ]
    }
   ],
   "source": [
    "def outer_function(x):\n",
    "    def inner_function(y):\n",
    "        return x + y\n",
    "    return inner_function\n",
    "\n",
    "func = outer_function(10)\n",
    "print(func(5))\n"
   ]
  },
  {
   "cell_type": "markdown",
   "id": "d0deaf9d-e07f-49d2-9ea5-57a581b18501",
   "metadata": {},
   "source": [
    "outer_function iç fonksiyon inner_function'u döndürür.\n",
    "func = outer_function(10) ile inner_function 10 ile çağrılacak şekilde ayarlanır.\n",
    "func(5) iç fonksiyon çağrıldığında x parametresi 10 ve y parametresi 5 alır.\n",
    "Sonuç: 10 + 5 = 15"
   ]
  },
  {
   "cell_type": "markdown",
   "id": "363ed6b6-32d9-4511-875e-6d7b832cdeea",
   "metadata": {},
   "source": [
    "#### Soru 2: Varsayılan Parametreler"
   ]
  },
  {
   "cell_type": "code",
   "execution_count": 52,
   "id": "b149e50b-522b-48a5-b00c-fe088a6ecc88",
   "metadata": {},
   "outputs": [
    {
     "name": "stdout",
     "output_type": "stream",
     "text": [
      "Hello, Alice!\n",
      "Hi, Bob!\n"
     ]
    }
   ],
   "source": [
    "def greet(name, greeting=\"Hello\"):\n",
    "    return f\"{greeting}, {name}!\"\n",
    "\n",
    "print(greet(\"Alice\"))\n",
    "print(greet(\"Bob\", \"Hi\"))\n"
   ]
  },
  {
   "cell_type": "markdown",
   "id": "ce3f0844-7fcf-4e87-aa7f-d23c19446c97",
   "metadata": {},
   "source": [
    "#### Soru 3: Geçici Değişkenler (Nonlocal)"
   ]
  },
  {
   "cell_type": "markdown",
   "id": "d7ccc941-feb5-495a-9f7f-a1fcdc9dab35",
   "metadata": {},
   "source": [
    "nonlocal anahtar kelimesi, iç fonksiyonun dış fonksiyonun değişkenlerine erişmesine ve onları değiştirmesine olanak tanır.\n",
    "func() çağrıldığında x değeri 10'dan 11'e yükseltilir.\n",
    "Sonuç: 11."
   ]
  },
  {
   "cell_type": "code",
   "execution_count": 53,
   "id": "6d64e21a-81d1-40a3-8fc1-9db6035ad1d7",
   "metadata": {},
   "outputs": [
    {
     "name": "stdout",
     "output_type": "stream",
     "text": [
      "11\n"
     ]
    }
   ],
   "source": [
    "def outer():\n",
    "    x = 10\n",
    "    def inner():\n",
    "        nonlocal x\n",
    "        x += 1\n",
    "        return x\n",
    "    return inner\n",
    "\n",
    "func = outer()\n",
    "print(func())\n"
   ]
  },
  {
   "cell_type": "code",
   "execution_count": null,
   "id": "7a9078ff-4823-428d-98d6-3eed54d6303c",
   "metadata": {},
   "outputs": [],
   "source": []
  }
 ],
 "metadata": {
  "kernelspec": {
   "display_name": "Python 3 (ipykernel)",
   "language": "python",
   "name": "python3"
  },
  "language_info": {
   "codemirror_mode": {
    "name": "ipython",
    "version": 3
   },
   "file_extension": ".py",
   "mimetype": "text/x-python",
   "name": "python",
   "nbconvert_exporter": "python",
   "pygments_lexer": "ipython3",
   "version": "3.10.9"
  }
 },
 "nbformat": 4,
 "nbformat_minor": 5
}
