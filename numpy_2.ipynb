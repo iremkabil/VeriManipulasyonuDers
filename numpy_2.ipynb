{
 "cells": [
  {
   "cell_type": "markdown",
   "id": "1d05f4bf-b9bd-46fd-9293-1902c3b5016b",
   "metadata": {},
   "source": [
    "# Numpy Array'i Oluşturmak"
   ]
  },
  {
   "cell_type": "code",
   "execution_count": 1,
   "id": "7ea620d0-fd72-4243-8b2e-3942fd558a2b",
   "metadata": {},
   "outputs": [],
   "source": [
    "import numpy as np"
   ]
  },
  {
   "cell_type": "code",
   "execution_count": 2,
   "id": "49b32dc3-a917-480d-9d48-e3d1b780e593",
   "metadata": {},
   "outputs": [],
   "source": [
    "a = np.array([1,2,3,4,5])"
   ]
  },
  {
   "cell_type": "code",
   "execution_count": 3,
   "id": "348d956a-36bd-45fb-93d6-49c28519b64d",
   "metadata": {},
   "outputs": [
    {
     "data": {
      "text/plain": [
       "numpy.ndarray"
      ]
     },
     "execution_count": 3,
     "metadata": {},
     "output_type": "execute_result"
    }
   ],
   "source": [
    "type(a)"
   ]
  },
  {
   "cell_type": "code",
   "execution_count": 8,
   "id": "534259c2-2347-4e03-95a6-96ac43558b33",
   "metadata": {},
   "outputs": [
    {
     "data": {
      "text/plain": [
       "array([ 3,  4,  2, 13])"
      ]
     },
     "execution_count": 8,
     "metadata": {},
     "output_type": "execute_result"
    }
   ],
   "source": [
    "np.array([3.14,4,2,13],dtype = \"int\")"
   ]
  },
  {
   "cell_type": "markdown",
   "id": "3a18fbd2-8aeb-45b5-bbcb-ef84329a6f36",
   "metadata": {
    "tags": []
   },
   "source": [
    "### sifirdan array oluşturmak"
   ]
  },
  {
   "cell_type": "code",
   "execution_count": 13,
   "id": "bf7e59f3-6235-4093-b515-689c0fb6c0cf",
   "metadata": {},
   "outputs": [
    {
     "data": {
      "text/plain": [
       "array([0, 0, 0, 0, 0, 0, 0, 0, 0, 0])"
      ]
     },
     "execution_count": 13,
     "metadata": {},
     "output_type": "execute_result"
    }
   ],
   "source": [
    "np.zeros(10, dtype=\"int\")"
   ]
  },
  {
   "cell_type": "code",
   "execution_count": 15,
   "id": "d6da08f9-fd58-4949-abc7-f3c0747afd26",
   "metadata": {},
   "outputs": [
    {
     "data": {
      "text/plain": [
       "array([[1, 1, 1, 1, 1],\n",
       "       [1, 1, 1, 1, 1]])"
      ]
     },
     "execution_count": 15,
     "metadata": {},
     "output_type": "execute_result"
    }
   ],
   "source": [
    "np.ones((2,5), dtype=\"int\")"
   ]
  },
  {
   "cell_type": "code",
   "execution_count": 16,
   "id": "6ad4f900-69b1-4b78-9b61-fa59ade8ed39",
   "metadata": {},
   "outputs": [
    {
     "data": {
      "text/plain": [
       "array([[3, 3, 3, 3, 3],\n",
       "       [3, 3, 3, 3, 3]])"
      ]
     },
     "execution_count": 16,
     "metadata": {},
     "output_type": "execute_result"
    }
   ],
   "source": [
    "np.full((2,5),3)"
   ]
  },
  {
   "cell_type": "code",
   "execution_count": 20,
   "id": "e3cc16d7-8147-484a-8a55-8ecf71f2c4b8",
   "metadata": {},
   "outputs": [
    {
     "data": {
      "text/plain": [
       "array([ 0,  4,  8, 12, 16, 20, 24, 28, 32, 36, 40])"
      ]
     },
     "execution_count": 20,
     "metadata": {},
     "output_type": "execute_result"
    }
   ],
   "source": [
    "np.arange(0,41,4)"
   ]
  },
  {
   "cell_type": "code",
   "execution_count": null,
   "id": "c9849e60-8c05-44a9-be8f-64d885d3a763",
   "metadata": {},
   "outputs": [],
   "source": []
  },
  {
   "cell_type": "code",
   "execution_count": 25,
   "id": "7ef1bacb-a41e-45d4-b7df-6c1068494563",
   "metadata": {},
   "outputs": [
    {
     "data": {
      "text/plain": [
       "array([0.        , 0.11111111, 0.22222222, 0.33333333, 0.44444444,\n",
       "       0.55555556, 0.66666667, 0.77777778, 0.88888889, 1.        ])"
      ]
     },
     "execution_count": 25,
     "metadata": {},
     "output_type": "execute_result"
    }
   ],
   "source": [
    "np.linspace(0,1,10)"
   ]
  },
  {
   "cell_type": "markdown",
   "id": "e8e75bef-897c-49bb-80d0-0dc803196894",
   "metadata": {},
   "source": [
    "### (ortalama, standart sapma, matris boyutu)"
   ]
  },
  {
   "cell_type": "code",
   "execution_count": 28,
   "id": "e344784a-cbcf-4103-ad21-f0ee0904d538",
   "metadata": {},
   "outputs": [
    {
     "data": {
      "text/plain": [
       "array([[12.82069727, 11.84846916, 13.00609688, 13.65018141,  6.01805716],\n",
       "       [ 8.38922003, 11.47141204, 10.42154596, 14.03907968, 13.03042237]])"
      ]
     },
     "execution_count": 28,
     "metadata": {},
     "output_type": "execute_result"
    }
   ],
   "source": [
    "np.random.normal(10,5,(2,5))"
   ]
  },
  {
   "cell_type": "markdown",
   "id": "cb6dd83f-3d16-48dc-89ca-f48245bd11f0",
   "metadata": {},
   "source": [
    "### 0 ile 10 arası random"
   ]
  },
  {
   "cell_type": "code",
   "execution_count": 29,
   "id": "cc2e3cf0-fdd6-40b7-b244-8dc49447f776",
   "metadata": {},
   "outputs": [
    {
     "data": {
      "text/plain": [
       "array([[0, 4, 4, 6, 2],\n",
       "       [9, 1, 2, 4, 1]])"
      ]
     },
     "execution_count": 29,
     "metadata": {},
     "output_type": "execute_result"
    }
   ],
   "source": [
    "np.random.randint(0,10,(2,5))"
   ]
  },
  {
   "cell_type": "code",
   "execution_count": null,
   "id": "096dcfc5-8aac-4678-804c-e93de619e3cc",
   "metadata": {},
   "outputs": [],
   "source": []
  }
 ],
 "metadata": {
  "kernelspec": {
   "display_name": "Python 3 (ipykernel)",
   "language": "python",
   "name": "python3"
  },
  "language_info": {
   "codemirror_mode": {
    "name": "ipython",
    "version": 3
   },
   "file_extension": ".py",
   "mimetype": "text/x-python",
   "name": "python",
   "nbconvert_exporter": "python",
   "pygments_lexer": "ipython3",
   "version": "3.10.9"
  }
 },
 "nbformat": 4,
 "nbformat_minor": 5
}
